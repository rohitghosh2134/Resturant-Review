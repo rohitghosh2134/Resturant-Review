{
 "cells": [
  {
   "cell_type": "code",
   "execution_count": 1,
   "id": "aeaf4529",
   "metadata": {},
   "outputs": [],
   "source": [
    "import pandas as pd\n",
    "import numpy as np\n",
    "import joblib\n",
    "import streamlit as st"
   ]
  },
  {
   "cell_type": "code",
   "execution_count": 2,
   "id": "089dc546",
   "metadata": {},
   "outputs": [],
   "source": [
    "load_model=joblib.load('finalmodel.sav')"
   ]
  },
  {
   "cell_type": "code",
   "execution_count": 3,
   "id": "0e9f3671",
   "metadata": {},
   "outputs": [],
   "source": [
    "def prediction(Review,Liked):\n",
    "    if Liked==\"Yes\":\n",
    "        Liked=1\n",
    "    if Liked==\"No\":\n",
    "        Liked=0\n",
    "    pred=load_model.predict([[Review,Liked]])\n",
    "    if pred==1:\n",
    "        pred=\"Postive\"\n",
    "    else:\n",
    "        pred=\"Negative\"\n",
    "    return pred"
   ]
  },
  {
   "cell_type": "code",
   "execution_count": 5,
   "id": "a0a41de0",
   "metadata": {},
   "outputs": [
    {
     "name": "stderr",
     "output_type": "stream",
     "text": [
      "2022-04-02 18:39:11.473 \n",
      "  \u001b[33m\u001b[1mWarning:\u001b[0m to view this Streamlit app on a browser, run it with the following\n",
      "  command:\n",
      "\n",
      "    streamlit run C:\\Users\\USER\\AppData\\Local\\Programs\\Python\\Python310\\lib\\site-packages\\ipykernel_launcher.py [ARGUMENTS]\n"
     ]
    },
    {
     "data": {
      "text/plain": [
       "DeltaGenerator(_root_container=0, _provided_cursor=None, _parent=None, _block_type=None, _form_data=None)"
      ]
     },
     "execution_count": 5,
     "metadata": {},
     "output_type": "execute_result"
    }
   ],
   "source": [
    "html_temp = \"\"\" \n",
    "    <div style =\"background-color:yellow;padding:13px\"> \n",
    "    <h1 style =\"color:black;text-align:center;\">Streamlit Loan Prediction ML App</h1> \n",
    "    </div> \n",
    "    \"\"\"\n",
    "      \n",
    "    # display the front end aspect\n",
    "st.markdown(html_temp, unsafe_allow_html = True) "
   ]
  },
  {
   "cell_type": "code",
   "execution_count": null,
   "id": "786091c7",
   "metadata": {},
   "outputs": [],
   "source": []
  }
 ],
 "metadata": {
  "kernelspec": {
   "display_name": "Python 3 (ipykernel)",
   "language": "python",
   "name": "python3"
  },
  "language_info": {
   "codemirror_mode": {
    "name": "ipython",
    "version": 3
   },
   "file_extension": ".py",
   "mimetype": "text/x-python",
   "name": "python",
   "nbconvert_exporter": "python",
   "pygments_lexer": "ipython3",
   "version": "3.10.2"
  }
 },
 "nbformat": 4,
 "nbformat_minor": 5
}
